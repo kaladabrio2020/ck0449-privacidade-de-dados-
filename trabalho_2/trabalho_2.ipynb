{
 "cells": [
  {
   "cell_type": "code",
   "execution_count": null,
   "id": "63473a94",
   "metadata": {},
   "outputs": [],
   "source": [
    "import PO"
   ]
  }
 ],
 "metadata": {
  "language_info": {
   "name": "python"
  }
 },
 "nbformat": 4,
 "nbformat_minor": 5
}
