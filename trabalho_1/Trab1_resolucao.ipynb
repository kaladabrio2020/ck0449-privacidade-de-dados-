{
 "cells": [
  {
   "cell_type": "markdown",
   "id": "16c3202c",
   "metadata": {},
   "source": [
    "### Trabalho 1 : em alguém api?"
   ]
  },
  {
   "cell_type": "code",
   "execution_count": 152,
   "id": "c35a9f74",
   "metadata": {},
   "outputs": [],
   "source": [
    "# importando libs\n",
    "import polars as pl\n",
    "import duckdb"
   ]
  },
  {
   "cell_type": "code",
   "execution_count": 153,
   "id": "8184b8a6",
   "metadata": {},
   "outputs": [
    {
     "data": {
      "text/html": [
       "<div><style>\n",
       ".dataframe > thead > tr,\n",
       ".dataframe > tbody > tr {\n",
       "  text-align: right;\n",
       "  white-space: pre-wrap;\n",
       "}\n",
       "</style>\n",
       "<small>shape: (2, 63)</small><table border=\"1\" class=\"dataframe\"><thead><tr><th>DT_GERACAO</th><th>HH_GERACAO</th><th>ANO_ELEICAO</th><th>CD_TIPO_ELEICAO</th><th>NM_TIPO_ELEICAO</th><th>NR_TURNO</th><th>CD_ELEICAO</th><th>DS_ELEICAO</th><th>DT_ELEICAO</th><th>TP_ABRANGENCIA</th><th>SG_UF</th><th>SG_UE</th><th>NM_UE</th><th>CD_CARGO</th><th>DS_CARGO</th><th>SQ_CANDIDATO</th><th>NR_CANDIDATO</th><th>NM_CANDIDATO</th><th>NM_URNA_CANDIDATO</th><th>NM_SOCIAL_CANDIDATO</th><th>NR_CPF_CANDIDATO</th><th>NM_EMAIL</th><th>CD_SITUACAO_CANDIDATURA</th><th>DS_SITUACAO_CANDIDATURA</th><th>CD_DETALHE_SITUACAO_CAND</th><th>DS_DETALHE_SITUACAO_CAND</th><th>TP_AGREMIACAO</th><th>NR_PARTIDO</th><th>SG_PARTIDO</th><th>NM_PARTIDO</th><th>SQ_COLIGACAO</th><th>NM_COLIGACAO</th><th>DS_COMPOSICAO_COLIGACAO</th><th>CD_NACIONALIDADE</th><th>DS_NACIONALIDADE</th><th>SG_UF_NASCIMENTO</th><th>CD_MUNICIPIO_NASCIMENTO</th><th>NM_MUNICIPIO_NASCIMENTO</th><th>DT_NASCIMENTO</th><th>NR_IDADE_DATA_POSSE</th><th>NR_TITULO_ELEITORAL_CANDIDATO</th><th>CD_GENERO</th><th>DS_GENERO</th><th>CD_GRAU_INSTRUCAO</th><th>DS_GRAU_INSTRUCAO</th><th>CD_ESTADO_CIVIL</th><th>DS_ESTADO_CIVIL</th><th>CD_COR_RACA</th><th>DS_COR_RACA</th><th>CD_OCUPACAO</th><th>DS_OCUPACAO</th><th>VR_DESPESA_MAX_CAMPANHA</th><th>CD_SIT_TOT_TURNO</th><th>DS_SIT_TOT_TURNO</th><th>ST_REELEICAO</th><th>ST_DECLARAR_BENS</th><th>NR_PROTOCOLO_CANDIDATURA</th><th>NR_PROCESSO</th><th>CD_SITUACAO_CANDIDATO_PLEITO</th><th>DS_SITUACAO_CANDIDATO_PLEITO</th><th>CD_SITUACAO_CANDIDATO_URNA</th><th>DS_SITUACAO_CANDIDATO_URNA</th><th>ST_CANDIDATO_INSERIDO_URNA</th></tr><tr><td>str</td><td>str</td><td>i64</td><td>i64</td><td>str</td><td>i64</td><td>i64</td><td>str</td><td>str</td><td>str</td><td>str</td><td>i64</td><td>str</td><td>str</td><td>str</td><td>i64</td><td>str</td><td>str</td><td>str</td><td>str</td><td>str</td><td>str</td><td>str</td><td>str</td><td>str</td><td>str</td><td>str</td><td>str</td><td>str</td><td>str</td><td>str</td><td>str</td><td>str</td><td>str</td><td>str</td><td>str</td><td>str</td><td>str</td><td>str</td><td>str</td><td>str</td><td>str</td><td>str</td><td>str</td><td>str</td><td>str</td><td>str</td><td>str</td><td>str</td><td>str</td><td>str</td><td>str</td><td>str</td><td>str</td><td>str</td><td>str</td><td>str</td><td>str</td><td>str</td><td>str</td><td>str</td><td>str</td><td>str</td></tr></thead><tbody><tr><td>&quot;16/02/2021&quot;</td><td>&quot;11:18:47&quot;</td><td>2020</td><td>2</td><td>&quot;ELEIÃO ORDINRIA&quot;</td><td>1</td><td>426</td><td>&quot;Eleies Municipais 2020&quot;</td><td>&quot;15/11/2020&quot;</td><td>&quot;MUNICIPAL&quot;</td><td>&quot;CE&quot;</td><td>14273</td><td>&quot;ITAPAJb;13&quot;&quot;</td><td>&quot;VEREADOR&quot;</td><td>&quot;60001203426&quot;</td><td>43111</td><td>&quot;JOSE BERNARDO PINTO DE ANDRADE&quot;</td><td>&quot;ABERLARDO DO BARATEIRO&quot;</td><td>&quot;#NULO#&quot;</td><td>&quot;10454990804&quot;</td><td>&quot;ALVESJARBAS@HOTMAIL.COM&quot;</td><td>&quot;12&quot;</td><td>&quot;APTO&quot;</td><td>&quot;2&quot;</td><td>&quot;DEFERIDO&quot;</td><td>&quot;PARTIDO ISOLADO&quot;</td><td>&quot;43&quot;</td><td>&quot;PV&quot;</td><td>&quot;PARTIDO VERDE&quot;</td><td>&quot;60000148018&quot;</td><td>&quot;PARTIDO ISOLADO&quot;</td><td>&quot;PV&quot;</td><td>&quot;1&quot;</td><td>&quot;BRASILEIRA NATA&quot;</td><td>&quot;CE&quot;</td><td>&quot;-3&quot;</td><td>&quot;ITAPAJb;09/12/1967&quot;&quot;</td><td>&quot;53&quot;</td><td>&quot;140736810167&quot;</td><td>&quot;2&quot;</td><td>&quot;MASCULINO&quot;</td><td>&quot;3&quot;</td><td>&quot;ENSINO FUNDAMENTAL INCOMPLETO&quot;</td><td>&quot;1&quot;</td><td>&quot;SOLTEIRO(A)&quot;</td><td>&quot;1&quot;</td><td>&quot;BRANCA&quot;</td><td>&quot;169&quot;</td><td>&quot;COMERCIANTE&quot;</td><td>&quot;17546.56&quot;</td><td>&quot;2&quot;</td><td>&quot;ELEITO POR QP&quot;</td><td>&quot;N&quot;</td><td>&quot;S&quot;</td><td>&quot;-1&quot;</td><td>&quot;06004249220206060041&quot;</td><td>&quot;2&quot;</td><td>&quot;DEFERIDO&quot;</td><td>&quot;2&quot;</td><td>&quot;DEFERIDO&quot;</td><td>&quot;SIM&quot;</td><td>null</td><td>null</td></tr><tr><td>&quot;16/02/2021&quot;</td><td>&quot;11:18:47&quot;</td><td>2020</td><td>2</td><td>&quot;ELEIÃO ORDINRIA&quot;</td><td>1</td><td>426</td><td>&quot;Eleies Municipais 2020&quot;</td><td>&quot;15/11/2020&quot;</td><td>&quot;MUNICIPAL&quot;</td><td>&quot;CE&quot;</td><td>13480</td><td>&quot;ITAITINGA&quot;</td><td>&quot;13&quot;</td><td>&quot;VEREADOR&quot;</td><td>60000881556</td><td>&quot;12007&quot;</td><td>&quot;MIRIAN GOMES DA SILVA&quot;</td><td>&quot;MIRIAN&quot;</td><td>&quot;#NULO#&quot;</td><td>&quot;51370263368&quot;</td><td>&quot;PDTDEITAITINGA@GMAIL.COM&quot;</td><td>&quot;12&quot;</td><td>&quot;APTO&quot;</td><td>&quot;2&quot;</td><td>&quot;DEFERIDO&quot;</td><td>&quot;PARTIDO ISOLADO&quot;</td><td>&quot;12&quot;</td><td>&quot;PDT&quot;</td><td>&quot;PARTIDO DEMOCRTICO TRABALHISTA&quot;</td><td>&quot;60000098272&quot;</td><td>&quot;PARTIDO ISOLADO&quot;</td><td>&quot;PDT&quot;</td><td>&quot;1&quot;</td><td>&quot;BRASILEIRA NATA&quot;</td><td>&quot;CE&quot;</td><td>&quot;-3&quot;</td><td>&quot;PORTEIRAS&quot;</td><td>&quot;13/01/1970&quot;</td><td>&quot;50&quot;</td><td>&quot;31979270701&quot;</td><td>&quot;4&quot;</td><td>&quot;FEMININO&quot;</td><td>&quot;2&quot;</td><td>&quot;L E ESCREVE&quot;</td><td>&quot;3&quot;</td><td>&quot;CASADO(A)&quot;</td><td>&quot;3&quot;</td><td>&quot;PARDA&quot;</td><td>&quot;513&quot;</td><td>&quot;MANICURE E MAQUILADOR&quot;</td><td>&quot;12307.75&quot;</td><td>&quot;5&quot;</td><td>&quot;SUPLENTE&quot;</td><td>&quot;N&quot;</td><td>&quot;N&quot;</td><td>&quot;-1&quot;</td><td>&quot;06003745220206060078&quot;</td><td>&quot;2&quot;</td><td>&quot;DEFERIDO&quot;</td><td>&quot;2&quot;</td><td>&quot;DEFERIDO&quot;</td><td>&quot;SIM&quot;</td></tr></tbody></table></div>"
      ],
      "text/plain": [
       "shape: (2, 63)\n",
       "┌───────────┬───────────┬───────────┬───────────┬───┬───────────┬───────────┬───────────┬──────────┐\n",
       "│ DT_GERACA ┆ HH_GERACA ┆ ANO_ELEIC ┆ CD_TIPO_E ┆ … ┆ DS_SITUAC ┆ CD_SITUAC ┆ DS_SITUAC ┆ ST_CANDI │\n",
       "│ O         ┆ O         ┆ AO        ┆ LEICAO    ┆   ┆ AO_CANDID ┆ AO_CANDID ┆ AO_CANDID ┆ DATO_INS │\n",
       "│ ---       ┆ ---       ┆ ---       ┆ ---       ┆   ┆ ATO_PLEIT ┆ ATO_URNA  ┆ ATO_URNA  ┆ ERIDO_UR │\n",
       "│ str       ┆ str       ┆ i64       ┆ i64       ┆   ┆ O         ┆ ---       ┆ ---       ┆ NA       │\n",
       "│           ┆           ┆           ┆           ┆   ┆ ---       ┆ str       ┆ str       ┆ ---      │\n",
       "│           ┆           ┆           ┆           ┆   ┆ str       ┆           ┆           ┆ str      │\n",
       "╞═══════════╪═══════════╪═══════════╪═══════════╪═══╪═══════════╪═══════════╪═══════════╪══════════╡\n",
       "│ 16/02/202 ┆ 11:18:47  ┆ 2020      ┆ 2         ┆ … ┆ DEFERIDO  ┆ SIM       ┆ null      ┆ null     │\n",
       "│ 1         ┆           ┆           ┆           ┆   ┆           ┆           ┆           ┆          │\n",
       "│ 16/02/202 ┆ 11:18:47  ┆ 2020      ┆ 2         ┆ … ┆ DEFERIDO  ┆ 2         ┆ DEFERIDO  ┆ SIM      │\n",
       "│ 1         ┆           ┆           ┆           ┆   ┆           ┆           ┆           ┆          │\n",
       "└───────────┴───────────┴───────────┴───────────┴───┴───────────┴───────────┴───────────┴──────────┘"
      ]
     },
     "execution_count": 153,
     "metadata": {},
     "output_type": "execute_result"
    }
   ],
   "source": [
    "cand_2020 = pl.read_csv('dataset\\\\consulta_cand_2020_CE.csv')\n",
    "cand_2020.head(2)"
   ]
  },
  {
   "cell_type": "code",
   "execution_count": 154,
   "id": "87331656",
   "metadata": {},
   "outputs": [
    {
     "data": {
      "text/html": [
       "<div><style>\n",
       ".dataframe > thead > tr,\n",
       ".dataframe > tbody > tr {\n",
       "  text-align: right;\n",
       "  white-space: pre-wrap;\n",
       "}\n",
       "</style>\n",
       "<small>shape: (2, 63)</small><table border=\"1\" class=\"dataframe\"><thead><tr><th>identificadorCaso</th><th>idRedcap</th><th>idEsus</th><th>idSivep</th><th>classificacaoEstadoRedcap</th><th>classificacaoEstadoEsus</th><th>classificacaoFinalEsus</th><th>evolucaoCasoEsus</th><th>cboEsus</th><th>profissionalSaudeEsus</th><th>paisCaso</th><th>estadoCaso</th><th>codigoMunicipioCaso</th><th>municipioCaso</th><th>bairroCaso</th><th>bairroCasoGeocoder</th><th>sexoCaso</th><th>idadeCaso</th><th>faixaEtaria</th><th>dataNascimento</th><th>dataNotificacao</th><th>dataInicioSintomas</th><th>dataSolicitacaoExame</th><th>dataColetaExame</th><th>dataResultadoExame</th><th>resultadoFinalExame</th><th>laboratorioExame</th><th>classificacaoEstadoSivep</th><th>dataInternacaoSivep</th><th>dataEntradaUTISivep</th><th>dataSaidaUTISivep</th><th>evolucaoCasoSivep</th><th>dataEvolucaoCasoSivep</th><th>comorbidadePuerperaSivep</th><th>comorbidadeCardiovascularSivep</th><th>comorbidadeHematologiaSivep</th><th>comorbidadeSindromeDownSivep</th><th>comorbidadeHepaticaSivep</th><th>comorbidadeAsmaSivep</th><th>comorbidadeDiabetesSivep</th><th>comorbidadeNeurologiaSivep</th><th>comorbidadePneumopatiaSivep</th><th>comorbidadeImunodeficienciaSivep</th><th>comorbidadeRenalSivep</th><th>comorbidadeObesidadeSivep</th><th>comorbidadeHiv</th><th>comorbidadeNeoplasias</th><th>tipoTesteExame</th><th>requisicaoGal</th><th>racaCor</th><th>dataNotificacaoObito</th><th>cnesNotificacaoEsus</th><th>municipioNotificacaoEsus</th><th>tipoObitoMaterno</th><th>classificacaoFinalCasoSivep</th><th>gestante</th><th>tipoTesteEsus</th><th>obitoConfirmado</th><th>dataObito</th><th>classificacaoObito</th><th>localObito</th><th>tipoLocalObito</th><th>PACIENTEPOSITIVONOBITO</th></tr><tr><td>str</td><td>str</td><td>str</td><td>str</td><td>str</td><td>str</td><td>str</td><td>str</td><td>str</td><td>str</td><td>str</td><td>str</td><td>f64</td><td>str</td><td>str</td><td>str</td><td>str</td><td>f64</td><td>str</td><td>str</td><td>str</td><td>str</td><td>str</td><td>str</td><td>str</td><td>str</td><td>str</td><td>str</td><td>str</td><td>str</td><td>str</td><td>str</td><td>str</td><td>str</td><td>str</td><td>str</td><td>str</td><td>str</td><td>str</td><td>str</td><td>str</td><td>str</td><td>str</td><td>str</td><td>str</td><td>str</td><td>str</td><td>str</td><td>f64</td><td>str</td><td>str</td><td>str</td><td>str</td><td>str</td><td>str</td><td>str</td><td>str</td><td>i64</td><td>str</td><td>str</td><td>str</td><td>str</td><td>i64</td></tr></thead><tbody><tr><td>&quot;c3ba634113e4b5eb0e3eaae93b0975…</td><td>null</td><td>null</td><td>null</td><td>null</td><td>null</td><td>null</td><td>null</td><td>null</td><td>null</td><td>&quot;BRASIL&quot;</td><td>&quot;CE&quot;</td><td>231290.0</td><td>&quot;SOBRAL&quot;</td><td>&quot;CAICARA&quot;</td><td>null</td><td>&quot;MASCULINO&quot;</td><td>17.0</td><td>&quot;15 a 19 anos&quot;</td><td>&quot;2003-08-14&quot;</td><td>null</td><td>&quot;NaT&quot;</td><td>&quot;2021-01-18 00:00:00&quot;</td><td>&quot;2021-01-18 00:00:00&quot;</td><td>&quot;2021-01-20 22:20:04&quot;</td><td>&quot;Negativo&quot;</td><td>&quot;LACEN&quot;</td><td>null</td><td>null</td><td>null</td><td>null</td><td>null</td><td>null</td><td>null</td><td>null</td><td>null</td><td>null</td><td>null</td><td>null</td><td>null</td><td>null</td><td>null</td><td>null</td><td>null</td><td>null</td><td>null</td><td>null</td><td>&quot;RT-PCR&quot;</td><td>2.1115e11</td><td>&quot;Parda&quot;</td><td>null</td><td>null</td><td>null</td><td>null</td><td>null</td><td>null</td><td>null</td><td>0</td><td>null</td><td>null</td><td>null</td><td>null</td><td>0</td></tr><tr><td>&quot;ac84809bfc89b992a0a0221e50b135…</td><td>null</td><td>null</td><td>null</td><td>null</td><td>null</td><td>null</td><td>null</td><td>null</td><td>null</td><td>&quot;BRASIL&quot;</td><td>&quot;CE&quot;</td><td>230960.0</td><td>&quot;PACAJUS&quot;</td><td>&quot;BANGUE&quot;</td><td>null</td><td>&quot;MASCULINO&quot;</td><td>37.0</td><td>&quot;35 a 39 anos&quot;</td><td>&quot;1983-11-07&quot;</td><td>null</td><td>&quot;NaT&quot;</td><td>&quot;2021-01-18 00:00:00&quot;</td><td>&quot;2021-01-19 00:00:00&quot;</td><td>&quot;2021-01-21 14:24:05&quot;</td><td>&quot;Negativo&quot;</td><td>&quot;FIOCRUZ&quot;</td><td>null</td><td>null</td><td>null</td><td>null</td><td>null</td><td>null</td><td>null</td><td>null</td><td>null</td><td>null</td><td>null</td><td>null</td><td>null</td><td>null</td><td>null</td><td>null</td><td>null</td><td>null</td><td>null</td><td>null</td><td>&quot;RT-PCR&quot;</td><td>2.1011e11</td><td>&quot;Parda&quot;</td><td>null</td><td>null</td><td>null</td><td>null</td><td>null</td><td>null</td><td>null</td><td>0</td><td>null</td><td>null</td><td>null</td><td>null</td><td>0</td></tr></tbody></table></div>"
      ],
      "text/plain": [
       "shape: (2, 63)\n",
       "┌────────────┬──────────┬────────┬─────────┬───┬────────────┬────────────┬────────────┬────────────┐\n",
       "│ identifica ┆ idRedcap ┆ idEsus ┆ idSivep ┆ … ┆ classifica ┆ localObito ┆ tipoLocalO ┆ PACIENTEPO │\n",
       "│ dorCaso    ┆ ---      ┆ ---    ┆ ---     ┆   ┆ caoObito   ┆ ---        ┆ bito       ┆ SITIVONOBI │\n",
       "│ ---        ┆ str      ┆ str    ┆ str     ┆   ┆ ---        ┆ str        ┆ ---        ┆ TO         │\n",
       "│ str        ┆          ┆        ┆         ┆   ┆ str        ┆            ┆ str        ┆ ---        │\n",
       "│            ┆          ┆        ┆         ┆   ┆            ┆            ┆            ┆ i64        │\n",
       "╞════════════╪══════════╪════════╪═════════╪═══╪════════════╪════════════╪════════════╪════════════╡\n",
       "│ c3ba634113 ┆ null     ┆ null   ┆ null    ┆ … ┆ null       ┆ null       ┆ null       ┆ 0          │\n",
       "│ e4b5eb0e3e ┆          ┆        ┆         ┆   ┆            ┆            ┆            ┆            │\n",
       "│ aae93b0975 ┆          ┆        ┆         ┆   ┆            ┆            ┆            ┆            │\n",
       "│ …          ┆          ┆        ┆         ┆   ┆            ┆            ┆            ┆            │\n",
       "│ ac84809bfc ┆ null     ┆ null   ┆ null    ┆ … ┆ null       ┆ null       ┆ null       ┆ 0          │\n",
       "│ 89b992a0a0 ┆          ┆        ┆         ┆   ┆            ┆            ┆            ┆            │\n",
       "│ 221e50b135 ┆          ┆        ┆         ┆   ┆            ┆            ┆            ┆            │\n",
       "│ …          ┆          ┆        ┆         ┆   ┆            ┆            ┆            ┆            │\n",
       "└────────────┴──────────┴────────┴─────────┴───┴────────────┴────────────┴────────────┴────────────┘"
      ]
     },
     "execution_count": 154,
     "metadata": {},
     "output_type": "execute_result"
    }
   ],
   "source": [
    "covid = pl.read_csv('dataset\\\\dados_covid-ce_trab02.csv')\n",
    "covid.head(2)"
   ]
  },
  {
   "cell_type": "code",
   "execution_count": 155,
   "id": "598da915",
   "metadata": {},
   "outputs": [],
   "source": [
    "## Selecionado colunas de interesse para candidatos.\n",
    " \n",
    "### NM_CANDIDATO, NR_CPF_CANDIDATO.\n",
    "\n",
    "### Semi-identificadores: NM_UE, DT_NASCIMENTO, DS_GENERO, DS_COR_RACA\n",
    "cand_2020 = cand_2020.select([\n",
    "    'NM_CANDIDATO', 'NR_CPF_CANDIDATO', 'NM_UE', 'DT_NASCIMENTO', 'DS_GENERO', 'DS_COR_RACA'\n",
    "])"
   ]
  },
  {
   "cell_type": "code",
   "execution_count": 156,
   "id": "3866c5e5",
   "metadata": {},
   "outputs": [
    {
     "name": "stdout",
     "output_type": "stream",
     "text": [
      "\n",
      "Colunas selecionadas do dataset de candidatos: ['NM_CANDIDATO', 'NR_CPF_CANDIDATO', 'NM_UE', 'DT_NASCIMENTO', 'DS_GENERO', 'DS_COR_RACA']\n",
      "shape: (2, 63)\n",
      "┌────────────┬──────────┬────────┬─────────┬───┬────────────┬────────────┬────────────┬────────────┐\n",
      "│ identifica ┆ idRedcap ┆ idEsus ┆ idSivep ┆ … ┆ classifica ┆ localObito ┆ tipoLocalO ┆ PACIENTEPO │\n",
      "│ dorCaso    ┆ ---      ┆ ---    ┆ ---     ┆   ┆ caoObito   ┆ ---        ┆ bito       ┆ SITIVONOBI │\n",
      "│ ---        ┆ str      ┆ str    ┆ str     ┆   ┆ ---        ┆ str        ┆ ---        ┆ TO         │\n",
      "│ str        ┆          ┆        ┆         ┆   ┆ str        ┆            ┆ str        ┆ ---        │\n",
      "│            ┆          ┆        ┆         ┆   ┆            ┆            ┆            ┆ i64        │\n",
      "╞════════════╪══════════╪════════╪═════════╪═══╪════════════╪════════════╪════════════╪════════════╡\n",
      "│ c3ba634113 ┆ null     ┆ null   ┆ null    ┆ … ┆ null       ┆ null       ┆ null       ┆ 0          │\n",
      "│ e4b5eb0e3e ┆          ┆        ┆         ┆   ┆            ┆            ┆            ┆            │\n",
      "│ aae93b0975 ┆          ┆        ┆         ┆   ┆            ┆            ┆            ┆            │\n",
      "│ …          ┆          ┆        ┆         ┆   ┆            ┆            ┆            ┆            │\n",
      "│ ac84809bfc ┆ null     ┆ null   ┆ null    ┆ … ┆ null       ┆ null       ┆ null       ┆ 0          │\n",
      "│ 89b992a0a0 ┆          ┆        ┆         ┆   ┆            ┆            ┆            ┆            │\n",
      "│ 221e50b135 ┆          ┆        ┆         ┆   ┆            ┆            ┆            ┆            │\n",
      "│ …          ┆          ┆        ┆         ┆   ┆            ┆            ┆            ┆            │\n",
      "└────────────┴──────────┴────────┴─────────┴───┴────────────┴────────────┴────────────┴────────────┘\n"
     ]
    }
   ],
   "source": [
    "print(\"\\nColunas selecionadas do dataset de candidatos:\", cand_2020.columns)\n",
    "print(covid.head(2))"
   ]
  },
  {
   "cell_type": "code",
   "execution_count": 157,
   "id": "1a058190",
   "metadata": {},
   "outputs": [
    {
     "data": {
      "text/html": [
       "<div><style>\n",
       ".dataframe > thead > tr,\n",
       ".dataframe > tbody > tr {\n",
       "  text-align: right;\n",
       "  white-space: pre-wrap;\n",
       "}\n",
       "</style>\n",
       "<small>shape: (2, 20)</small><table border=\"1\" class=\"dataframe\"><thead><tr><th>municipioCaso</th><th>bairroCaso</th><th>sexoCaso</th><th>dataNascimento</th><th>racaCor</th><th>resultadoFinalExame</th><th>comorbidadePuerperaSivep</th><th>comorbidadeCardiovascularSivep</th><th>comorbidadeHematologiaSivep</th><th>comorbidadeSindromeDownSivep</th><th>comorbidadeHepaticaSivep</th><th>comorbidadeAsmaSivep</th><th>comorbidadeDiabetesSivep</th><th>comorbidadeNeurologiaSivep</th><th>comorbidadePneumopatiaSivep</th><th>comorbidadeImunodeficienciaSivep</th><th>comorbidadeRenalSivep</th><th>comorbidadeObesidadeSivep</th><th>comorbidadeHiv</th><th>comorbidadeNeoplasias</th></tr><tr><td>str</td><td>str</td><td>str</td><td>str</td><td>str</td><td>str</td><td>str</td><td>str</td><td>str</td><td>str</td><td>str</td><td>str</td><td>str</td><td>str</td><td>str</td><td>str</td><td>str</td><td>str</td><td>str</td><td>str</td></tr></thead><tbody><tr><td>&quot;SOBRAL&quot;</td><td>&quot;CAICARA&quot;</td><td>&quot;MASCULINO&quot;</td><td>&quot;2003-08-14&quot;</td><td>&quot;Parda&quot;</td><td>&quot;Negativo&quot;</td><td>null</td><td>null</td><td>null</td><td>null</td><td>null</td><td>null</td><td>null</td><td>null</td><td>null</td><td>null</td><td>null</td><td>null</td><td>null</td><td>null</td></tr><tr><td>&quot;PACAJUS&quot;</td><td>&quot;BANGUE&quot;</td><td>&quot;MASCULINO&quot;</td><td>&quot;1983-11-07&quot;</td><td>&quot;Parda&quot;</td><td>&quot;Negativo&quot;</td><td>null</td><td>null</td><td>null</td><td>null</td><td>null</td><td>null</td><td>null</td><td>null</td><td>null</td><td>null</td><td>null</td><td>null</td><td>null</td><td>null</td></tr></tbody></table></div>"
      ],
      "text/plain": [
       "shape: (2, 20)\n",
       "┌───────────┬───────────┬───────────┬───────────┬───┬───────────┬───────────┬───────────┬──────────┐\n",
       "│ municipio ┆ bairroCas ┆ sexoCaso  ┆ dataNasci ┆ … ┆ comorbida ┆ comorbida ┆ comorbida ┆ comorbid │\n",
       "│ Caso      ┆ o         ┆ ---       ┆ mento     ┆   ┆ deRenalSi ┆ deObesida ┆ deHiv     ┆ adeNeopl │\n",
       "│ ---       ┆ ---       ┆ str       ┆ ---       ┆   ┆ vep       ┆ deSivep   ┆ ---       ┆ asias    │\n",
       "│ str       ┆ str       ┆           ┆ str       ┆   ┆ ---       ┆ ---       ┆ str       ┆ ---      │\n",
       "│           ┆           ┆           ┆           ┆   ┆ str       ┆ str       ┆           ┆ str      │\n",
       "╞═══════════╪═══════════╪═══════════╪═══════════╪═══╪═══════════╪═══════════╪═══════════╪══════════╡\n",
       "│ SOBRAL    ┆ CAICARA   ┆ MASCULINO ┆ 2003-08-1 ┆ … ┆ null      ┆ null      ┆ null      ┆ null     │\n",
       "│           ┆           ┆           ┆ 4         ┆   ┆           ┆           ┆           ┆          │\n",
       "│ PACAJUS   ┆ BANGUE    ┆ MASCULINO ┆ 1983-11-0 ┆ … ┆ null      ┆ null      ┆ null      ┆ null     │\n",
       "│           ┆           ┆           ┆ 7         ┆   ┆           ┆           ┆           ┆          │\n",
       "└───────────┴───────────┴───────────┴───────────┴───┴───────────┴───────────┴───────────┴──────────┘"
      ]
     },
     "execution_count": 157,
     "metadata": {},
     "output_type": "execute_result"
    }
   ],
   "source": [
    "## Selecionando colunas de interesse para covid.\n",
    "\n",
    "### municipioCaso, bairroCaso, sexoCaso, dataNascimento, racaCor\n",
    "### resultadoFinalExame + 14 comorbidades\n",
    "### comorbidadePuerperaSivep\tcomorbidadeCardiovascularSivep\tcomorbidadeHematologiaSivep\tcomorbidadeSindromeDownSivep\tcomorbidadeHepaticaSivep\tcomorbidadeAsmaSivep\tcomorbidadeDiabetesSivep\tcomorbidadeNeurologiaSivep\tcomorbidadePneumopatiaSivep\tcomorbidadeImunodeficienciaSivep\tcomorbidadeRenalSivep\tcomorbidadeObesidadeSivep\tcomorbidadeHiv\tcomorbidadeNeoplasias\n",
    "covid = covid.select([\n",
    "    'municipioCaso', 'bairroCaso', 'sexoCaso', 'dataNascimento', 'racaCor', 'resultadoFinalExame',\n",
    "    'comorbidadePuerperaSivep','comorbidadeCardiovascularSivep','comorbidadeHematologiaSivep',\n",
    "    'comorbidadeSindromeDownSivep','comorbidadeHepaticaSivep','comorbidadeAsmaSivep',\n",
    "    'comorbidadeDiabetesSivep','comorbidadeNeurologiaSivep','comorbidadePneumopatiaSivep',\n",
    "    'comorbidadeImunodeficienciaSivep','comorbidadeRenalSivep','comorbidadeObesidadeSivep',\n",
    "    'comorbidadeHiv','comorbidadeNeoplasias'\n",
    "]) \n",
    "\n",
    "covid.head(2)"
   ]
  },
  {
   "cell_type": "code",
   "execution_count": 158,
   "id": "b21e75c7",
   "metadata": {},
   "outputs": [
    {
     "name": "stdout",
     "output_type": "stream",
     "text": [
      "\n",
      "Colunas selecionadas do dataset de covid: ['municipioCaso', 'bairroCaso', 'sexoCaso', 'dataNascimento', 'racaCor', 'resultadoFinalExame', 'comorbidadePuerperaSivep', 'comorbidadeCardiovascularSivep', 'comorbidadeHematologiaSivep', 'comorbidadeSindromeDownSivep', 'comorbidadeHepaticaSivep', 'comorbidadeAsmaSivep', 'comorbidadeDiabetesSivep', 'comorbidadeNeurologiaSivep', 'comorbidadePneumopatiaSivep', 'comorbidadeImunodeficienciaSivep', 'comorbidadeRenalSivep', 'comorbidadeObesidadeSivep', 'comorbidadeHiv', 'comorbidadeNeoplasias']\n",
      "shape: (2, 20)\n",
      "┌───────────┬───────────┬───────────┬───────────┬───┬───────────┬───────────┬───────────┬──────────┐\n",
      "│ municipio ┆ bairroCas ┆ sexoCaso  ┆ dataNasci ┆ … ┆ comorbida ┆ comorbida ┆ comorbida ┆ comorbid │\n",
      "│ Caso      ┆ o         ┆ ---       ┆ mento     ┆   ┆ deRenalSi ┆ deObesida ┆ deHiv     ┆ adeNeopl │\n",
      "│ ---       ┆ ---       ┆ str       ┆ ---       ┆   ┆ vep       ┆ deSivep   ┆ ---       ┆ asias    │\n",
      "│ str       ┆ str       ┆           ┆ str       ┆   ┆ ---       ┆ ---       ┆ str       ┆ ---      │\n",
      "│           ┆           ┆           ┆           ┆   ┆ str       ┆ str       ┆           ┆ str      │\n",
      "╞═══════════╪═══════════╪═══════════╪═══════════╪═══╪═══════════╪═══════════╪═══════════╪══════════╡\n",
      "│ SOBRAL    ┆ CAICARA   ┆ MASCULINO ┆ 2003-08-1 ┆ … ┆ null      ┆ null      ┆ null      ┆ null     │\n",
      "│           ┆           ┆           ┆ 4         ┆   ┆           ┆           ┆           ┆          │\n",
      "│ PACAJUS   ┆ BANGUE    ┆ MASCULINO ┆ 1983-11-0 ┆ … ┆ null      ┆ null      ┆ null      ┆ null     │\n",
      "│           ┆           ┆           ┆ 7         ┆   ┆           ┆           ┆           ┆          │\n",
      "└───────────┴───────────┴───────────┴───────────┴───┴───────────┴───────────┴───────────┴──────────┘\n"
     ]
    }
   ],
   "source": [
    "print(\"\\nColunas selecionadas do dataset de covid:\", covid.columns)\n",
    "print(covid.head(2))"
   ]
  },
  {
   "cell_type": "code",
   "execution_count": 159,
   "id": "76564886",
   "metadata": {},
   "outputs": [
    {
     "name": "stdout",
     "output_type": "stream",
     "text": [
      "Fazendo o cruzamento entre os datasets usando os semi-identificadores em comum\n",
      "\n",
      "* Data de nascimento\n",
      "* Raça/Cor\n",
      "* Gênero\n",
      "* Município\n",
      "      \n"
     ]
    }
   ],
   "source": [
    "print('Fazendo o cruzamento entre os datasets usando os semi-identificadores em comum')\n",
    "print('''\n",
    "* Data de nascimento\n",
    "* Raça/Cor\n",
    "* Gênero\n",
    "* Município\n",
    "      ''')"
   ]
  },
  {
   "cell_type": "code",
   "execution_count": 160,
   "id": "6ff8233e",
   "metadata": {},
   "outputs": [
    {
     "name": "stdout",
     "output_type": "stream",
     "text": [
      "\n",
      "\n",
      "----------------------------------------------------------------------------------------------------\n",
      "Normalizando cada coluna para junção\n",
      "* Para racaCor : A coluna racaCor do dataset covid está em caixa baixa, \n",
      "enquanto a coluna DS_COR_RACA do dataset cand_2020 está em caixa alta. Vou colocar ambas em caixa alta.\n"
     ]
    }
   ],
   "source": [
    "print('\\n')\n",
    "print(\"-\"*100)\n",
    "print(\"Normalizando cada coluna para junção\")\n",
    "print(\"* Para racaCor : A coluna racaCor do dataset covid está em caixa baixa, \\nenquanto a coluna DS_COR_RACA do dataset cand_2020 está em caixa alta. Vou colocar ambas em caixa alta.\")"
   ]
  },
  {
   "cell_type": "code",
   "execution_count": 161,
   "id": "02ff3c32",
   "metadata": {},
   "outputs": [],
   "source": [
    "covid = covid.with_columns(\n",
    "    pl.col(\"racaCor\").str.to_uppercase().alias(\"racaCor\")\n",
    ")"
   ]
  },
  {
   "cell_type": "code",
   "execution_count": 162,
   "id": "a358abf5",
   "metadata": {},
   "outputs": [
    {
     "data": {
      "text/html": [
       "<div><style>\n",
       ".dataframe > thead > tr,\n",
       ".dataframe > tbody > tr {\n",
       "  text-align: right;\n",
       "  white-space: pre-wrap;\n",
       "}\n",
       "</style>\n",
       "<small>shape: (4, 1)</small><table border=\"1\" class=\"dataframe\"><thead><tr><th>DS_COR_RACA</th></tr><tr><td>str</td></tr></thead><tbody><tr><td>&quot;PRETA&quot;</td></tr><tr><td>&quot;AMARELA&quot;</td></tr><tr><td>&quot;BRANCA&quot;</td></tr><tr><td>&quot;PARDA&quot;</td></tr></tbody></table></div>"
      ],
      "text/plain": [
       "shape: (4, 1)\n",
       "┌─────────────┐\n",
       "│ DS_COR_RACA │\n",
       "│ ---         │\n",
       "│ str         │\n",
       "╞═════════════╡\n",
       "│ PRETA       │\n",
       "│ AMARELA     │\n",
       "│ BRANCA      │\n",
       "│ PARDA       │\n",
       "└─────────────┘"
      ]
     },
     "execution_count": 162,
     "metadata": {},
     "output_type": "execute_result"
    }
   ],
   "source": [
    "cand_2020.select(['DS_COR_RACA']).filter(pl.col('DS_COR_RACA').is_in(covid.select(['racaCor']).unique()[\"racaCor\"].to_list())).unique()"
   ]
  },
  {
   "cell_type": "code",
   "execution_count": 163,
   "id": "590031d5",
   "metadata": {},
   "outputs": [
    {
     "name": "stdout",
     "output_type": "stream",
     "text": [
      "* Para data de nascimento : A coluna dataNascimento do dataset covid está no formato YYYY-MM-DD, \n",
      "enquanto a coluna DT_NASCIMENTO do dataset cand_2020 está no formato DD/MM/YYYY. Vou colocar ambas no formato DD-MM-YYYY.\n"
     ]
    }
   ],
   "source": [
    "print('* Para data de nascimento : A coluna dataNascimento do dataset covid está no formato YYYY-MM-DD, \\nenquanto a coluna DT_NASCIMENTO do dataset cand_2020 está no formato DD/MM/YYYY. Vou colocar ambas no formato DD-MM-YYYY.')"
   ]
  },
  {
   "cell_type": "code",
   "execution_count": 164,
   "id": "bbd4921f",
   "metadata": {},
   "outputs": [
    {
     "data": {
      "text/html": [
       "<div><style>\n",
       ".dataframe > thead > tr,\n",
       ".dataframe > tbody > tr {\n",
       "  text-align: right;\n",
       "  white-space: pre-wrap;\n",
       "}\n",
       "</style>\n",
       "<small>shape: (5, 20)</small><table border=\"1\" class=\"dataframe\"><thead><tr><th>municipioCaso</th><th>bairroCaso</th><th>sexoCaso</th><th>dataNascimento</th><th>racaCor</th><th>resultadoFinalExame</th><th>comorbidadePuerperaSivep</th><th>comorbidadeCardiovascularSivep</th><th>comorbidadeHematologiaSivep</th><th>comorbidadeSindromeDownSivep</th><th>comorbidadeHepaticaSivep</th><th>comorbidadeAsmaSivep</th><th>comorbidadeDiabetesSivep</th><th>comorbidadeNeurologiaSivep</th><th>comorbidadePneumopatiaSivep</th><th>comorbidadeImunodeficienciaSivep</th><th>comorbidadeRenalSivep</th><th>comorbidadeObesidadeSivep</th><th>comorbidadeHiv</th><th>comorbidadeNeoplasias</th></tr><tr><td>str</td><td>str</td><td>str</td><td>str</td><td>str</td><td>str</td><td>str</td><td>str</td><td>str</td><td>str</td><td>str</td><td>str</td><td>str</td><td>str</td><td>str</td><td>str</td><td>str</td><td>str</td><td>str</td><td>str</td></tr></thead><tbody><tr><td>&quot;SOBRAL&quot;</td><td>&quot;CAICARA&quot;</td><td>&quot;MASCULINO&quot;</td><td>&quot;14-08-2003&quot;</td><td>&quot;PARDA&quot;</td><td>&quot;Negativo&quot;</td><td>null</td><td>null</td><td>null</td><td>null</td><td>null</td><td>null</td><td>null</td><td>null</td><td>null</td><td>null</td><td>null</td><td>null</td><td>null</td><td>null</td></tr><tr><td>&quot;PACAJUS&quot;</td><td>&quot;BANGUE&quot;</td><td>&quot;MASCULINO&quot;</td><td>&quot;07-11-1983&quot;</td><td>&quot;PARDA&quot;</td><td>&quot;Negativo&quot;</td><td>null</td><td>null</td><td>null</td><td>null</td><td>null</td><td>null</td><td>null</td><td>null</td><td>null</td><td>null</td><td>null</td><td>null</td><td>null</td><td>null</td></tr><tr><td>&quot;FORTALEZA&quot;</td><td>&quot;ZUMBI&quot;</td><td>&quot;MASCULINO&quot;</td><td>&quot;12-03-1992&quot;</td><td>&quot;PARDA&quot;</td><td>&quot;Negativo&quot;</td><td>null</td><td>null</td><td>null</td><td>null</td><td>null</td><td>null</td><td>null</td><td>null</td><td>null</td><td>null</td><td>null</td><td>null</td><td>null</td><td>null</td></tr><tr><td>&quot;CAUCAIA&quot;</td><td>&quot;METROPOLIS&quot;</td><td>&quot;MASCULINO&quot;</td><td>&quot;06-03-1970&quot;</td><td>&quot;SEM INFORMACAO&quot;</td><td>&quot;Negativo&quot;</td><td>null</td><td>null</td><td>null</td><td>null</td><td>null</td><td>null</td><td>null</td><td>null</td><td>null</td><td>null</td><td>null</td><td>null</td><td>null</td><td>null</td></tr><tr><td>&quot;FORTALEZA&quot;</td><td>&quot;PARANGABA&quot;</td><td>&quot;FEMININO&quot;</td><td>&quot;10-01-1939&quot;</td><td>&quot;PARDA&quot;</td><td>&quot;Negativo&quot;</td><td>null</td><td>null</td><td>null</td><td>null</td><td>null</td><td>null</td><td>null</td><td>null</td><td>null</td><td>null</td><td>null</td><td>null</td><td>null</td><td>null</td></tr></tbody></table></div>"
      ],
      "text/plain": [
       "shape: (5, 20)\n",
       "┌───────────┬───────────┬───────────┬───────────┬───┬───────────┬───────────┬───────────┬──────────┐\n",
       "│ municipio ┆ bairroCas ┆ sexoCaso  ┆ dataNasci ┆ … ┆ comorbida ┆ comorbida ┆ comorbida ┆ comorbid │\n",
       "│ Caso      ┆ o         ┆ ---       ┆ mento     ┆   ┆ deRenalSi ┆ deObesida ┆ deHiv     ┆ adeNeopl │\n",
       "│ ---       ┆ ---       ┆ str       ┆ ---       ┆   ┆ vep       ┆ deSivep   ┆ ---       ┆ asias    │\n",
       "│ str       ┆ str       ┆           ┆ str       ┆   ┆ ---       ┆ ---       ┆ str       ┆ ---      │\n",
       "│           ┆           ┆           ┆           ┆   ┆ str       ┆ str       ┆           ┆ str      │\n",
       "╞═══════════╪═══════════╪═══════════╪═══════════╪═══╪═══════════╪═══════════╪═══════════╪══════════╡\n",
       "│ SOBRAL    ┆ CAICARA   ┆ MASCULINO ┆ 14-08-200 ┆ … ┆ null      ┆ null      ┆ null      ┆ null     │\n",
       "│           ┆           ┆           ┆ 3         ┆   ┆           ┆           ┆           ┆          │\n",
       "│ PACAJUS   ┆ BANGUE    ┆ MASCULINO ┆ 07-11-198 ┆ … ┆ null      ┆ null      ┆ null      ┆ null     │\n",
       "│           ┆           ┆           ┆ 3         ┆   ┆           ┆           ┆           ┆          │\n",
       "│ FORTALEZA ┆ ZUMBI     ┆ MASCULINO ┆ 12-03-199 ┆ … ┆ null      ┆ null      ┆ null      ┆ null     │\n",
       "│           ┆           ┆           ┆ 2         ┆   ┆           ┆           ┆           ┆          │\n",
       "│ CAUCAIA   ┆ METROPOLI ┆ MASCULINO ┆ 06-03-197 ┆ … ┆ null      ┆ null      ┆ null      ┆ null     │\n",
       "│           ┆ S         ┆           ┆ 0         ┆   ┆           ┆           ┆           ┆          │\n",
       "│ FORTALEZA ┆ PARANGABA ┆ FEMININO  ┆ 10-01-193 ┆ … ┆ null      ┆ null      ┆ null      ┆ null     │\n",
       "│           ┆           ┆           ┆ 9         ┆   ┆           ┆           ┆           ┆          │\n",
       "└───────────┴───────────┴───────────┴───────────┴───┴───────────┴───────────┴───────────┴──────────┘"
      ]
     },
     "execution_count": 164,
     "metadata": {},
     "output_type": "execute_result"
    }
   ],
   "source": [
    "covid = covid.with_columns(\n",
    "    pl.col(\"dataNascimento\")\n",
    "      .str.strptime(pl.Date, \"%Y-%m-%d\")   # interpreta a string como data\n",
    "      .dt.strftime(\"%d-%m-%Y\")             # formata no novo padrão\n",
    "      .alias(\"dataNascimento\")\n",
    ")\n",
    "covid.head()"
   ]
  },
  {
   "cell_type": "code",
   "execution_count": null,
   "id": "30743d1f",
   "metadata": {},
   "outputs": [
    {
     "name": "stdout",
     "output_type": "stream",
     "text": [
      "Para municipios de ambos : Serão colocados em caixa alta\n"
     ]
    }
   ],
   "source": [
    "print(\"* Para municipios de ambos : Serão colocados em caixa alta\")\n",
    "covid = covid.with_columns(\n",
    "    pl.col(\"municipioCaso\").str.to_uppercase().alias(\"municipioCaso\")\n",
    ")\n",
    "cand_2020 = cand_2020.with_columns(\n",
    "    pl.col(\"NM_UE\").str.to_uppercase().alias(\"NM_UE\")\n",
    ")"
   ]
  },
  {
   "cell_type": "code",
   "execution_count": 166,
   "id": "abd2c02b",
   "metadata": {},
   "outputs": [],
   "source": [
    "cand_2020 = cand_2020.with_columns(\n",
    "    pl.col(\"DT_NASCIMENTO\").str.replace('/','-').str.replace('/','-').alias(\"DT_NASCIMENTO\")\n",
    ")"
   ]
  },
  {
   "cell_type": "code",
   "execution_count": 167,
   "id": "469f4ebc",
   "metadata": {},
   "outputs": [
    {
     "data": {
      "text/html": [
       "<div><style>\n",
       ".dataframe > thead > tr,\n",
       ".dataframe > tbody > tr {\n",
       "  text-align: right;\n",
       "  white-space: pre-wrap;\n",
       "}\n",
       "</style>\n",
       "<small>shape: (5, 6)</small><table border=\"1\" class=\"dataframe\"><thead><tr><th>NM_CANDIDATO</th><th>NR_CPF_CANDIDATO</th><th>NM_UE</th><th>DT_NASCIMENTO</th><th>DS_GENERO</th><th>DS_COR_RACA</th></tr><tr><td>str</td><td>str</td><td>str</td><td>str</td><td>str</td><td>str</td></tr></thead><tbody><tr><td>&quot;ABERLARDO DO BARATEIRO&quot;</td><td>&quot;ALVESJARBAS@HOTMAIL.COM&quot;</td><td>&quot;ITAPAJB;13&quot;&quot;</td><td>&quot;140736810167&quot;</td><td>&quot;ENSINO FUNDAMENTAL INCOMPLETO&quot;</td><td>&quot;COMERCIANTE&quot;</td></tr><tr><td>&quot;MIRIAN GOMES DA SILVA&quot;</td><td>&quot;51370263368&quot;</td><td>&quot;ITAITINGA&quot;</td><td>&quot;13-01-1970&quot;</td><td>&quot;FEMININO&quot;</td><td>&quot;PARDA&quot;</td></tr><tr><td>&quot;MATHUSALEM PEIXOTO MAIA&quot;</td><td>&quot;97710610897&quot;</td><td>&quot;JAGUARIBARA&quot;</td><td>&quot;20-02-1952&quot;</td><td>&quot;MASCULINO&quot;</td><td>&quot;PARDA&quot;</td></tr><tr><td>&quot;FELIPE DAMASCENO&quot;</td><td>&quot;ELEICOESMARACANUENSE2020@GMAIL…</td><td>&quot;MARACANA¢;13&quot;&quot;</td><td>&quot;39&quot;</td><td>&quot;6&quot;</td><td>&quot;298&quot;</td></tr><tr><td>&quot;JOÏ VIEIRA NOGUEIRA&quot;</td><td>&quot;51119668387&quot;</td><td>&quot;CASCAVEL&quot;</td><td>&quot;30-09-1969&quot;</td><td>&quot;MASCULINO&quot;</td><td>&quot;BRANCA&quot;</td></tr></tbody></table></div>"
      ],
      "text/plain": [
       "shape: (5, 6)\n",
       "┌───────────────────┬──────────────────┬───────────────┬───────────────┬─────────────┬─────────────┐\n",
       "│ NM_CANDIDATO      ┆ NR_CPF_CANDIDATO ┆ NM_UE         ┆ DT_NASCIMENTO ┆ DS_GENERO   ┆ DS_COR_RACA │\n",
       "│ ---               ┆ ---              ┆ ---           ┆ ---           ┆ ---         ┆ ---         │\n",
       "│ str               ┆ str              ┆ str           ┆ str           ┆ str         ┆ str         │\n",
       "╞═══════════════════╪══════════════════╪═══════════════╪═══════════════╪═════════════╪═════════════╡\n",
       "│ ABERLARDO DO      ┆ ALVESJARBAS@HOTM ┆ ITAPAJB;13\"   ┆ 140736810167  ┆ ENSINO      ┆ COMERCIANTE │\n",
       "│ BARATEIRO         ┆ AIL.COM          ┆               ┆               ┆ FUNDAMENTAL ┆             │\n",
       "│                   ┆                  ┆               ┆               ┆ INCOMPLETO  ┆             │\n",
       "│ MIRIAN GOMES DA   ┆ 51370263368      ┆ ITAITINGA     ┆ 13-01-1970    ┆ FEMININO    ┆ PARDA       │\n",
       "│ SILVA             ┆                  ┆               ┆               ┆             ┆             │\n",
       "│ MATHUSALEM        ┆ 97710610897      ┆ JAGUARIBARA   ┆ 20-02-1952    ┆ MASCULINO   ┆ PARDA       │\n",
       "│ PEIXOTO MAIA      ┆                  ┆               ┆               ┆             ┆             │\n",
       "│ FELIPE DAMASCENO  ┆ ELEICOESMARACANU ┆ MARACANA¢;13\" ┆ 39            ┆ 6           ┆ 298         │\n",
       "│                   ┆ ENSE2020@GMAIL…  ┆               ┆               ┆             ┆             │\n",
       "│ JOÏ VIEIRA        ┆ 51119668387      ┆ CASCAVEL      ┆ 30-09-1969    ┆ MASCULINO   ┆ BRANCA      │\n",
       "│ NOGUEIRA          ┆                  ┆               ┆               ┆             ┆             │\n",
       "└───────────────────┴──────────────────┴───────────────┴───────────────┴─────────────┴─────────────┘"
      ]
     },
     "execution_count": 167,
     "metadata": {},
     "output_type": "execute_result"
    }
   ],
   "source": [
    "cand_2020.head()"
   ]
  },
  {
   "cell_type": "code",
   "execution_count": 168,
   "id": "2dfd863a",
   "metadata": {},
   "outputs": [
    {
     "name": "stdout",
     "output_type": "stream",
     "text": [
      "\n",
      "\n",
      "Criando query no DuckDB para fazer o cruzamento entre os datasets\n",
      "\n",
      "    SELECT\n",
      "        *\n",
      "    FROM\n",
      "        cand_2020 AS c\n",
      "    INNER JOIN covid AS v\n",
      "    ON \n",
      "        c.DT_NASCIMENTO   = v.dataNascimento\n",
      "        AND c.DS_COR_RACA = v.racaCor\n",
      "        AND c.DS_GENERO   = v.sexoCaso\n",
      "        AND c.NM_UE       = v.municipioCaso\n",
      "\n"
     ]
    }
   ],
   "source": [
    "###\n",
    "print('\\n')\n",
    "print(\"Criando query no DuckDB para fazer o cruzamento entre os datasets\")\n",
    "\n",
    "query = '''\n",
    "    SELECT\n",
    "        *\n",
    "    FROM\n",
    "        cand_2020 AS c\n",
    "    INNER JOIN covid AS v\n",
    "    ON \n",
    "        c.DT_NASCIMENTO   = v.dataNascimento\n",
    "        AND c.DS_COR_RACA = v.racaCor\n",
    "        AND c.DS_GENERO   = v.sexoCaso\n",
    "        AND c.NM_UE       = v.municipioCaso\n",
    "'''\n",
    "print(query)"
   ]
  },
  {
   "cell_type": "code",
   "execution_count": 169,
   "id": "7de30291",
   "metadata": {},
   "outputs": [
    {
     "name": "stdout",
     "output_type": "stream",
     "text": [
      "Resultaddo do cruzamento entre os datasets :\n",
      "                NM_CANDIDATO NR_CPF_CANDIDATO       NM_UE DT_NASCIMENTO  \\\n",
      "0  LARISSA DA SILVA OLIVEIRA       6795232514  MARANGUAPE    08-10-1995   \n",
      "1   MARIA IRACILDA RODRIGUES      26117886349     CAMOCIM    22-09-1964   \n",
      "2       ANA PAULA DE ALMEIDA       1240225377     ARACATI    03-04-1986   \n",
      "3   JOS`NILDO SILVA DA COSTA      44207280359   PARAIPABA    10-04-1971   \n",
      "4    LUCILENE SALES DA COSTA      85152811391     ITAREMA    15-08-1976   \n",
      "\n",
      "   DS_GENERO DS_COR_RACA municipioCaso        bairroCaso   sexoCaso  \\\n",
      "0   FEMININO       PARDA    MARANGUAPE            CENTRO   FEMININO   \n",
      "1   FEMININO      BRANCA       CAMOCIM          CRUZEIRO   FEMININO   \n",
      "2   FEMININO       PARDA       ARACATI  VARZEA DA MATRIZ   FEMININO   \n",
      "3  MASCULINO       PARDA     PARAIPABA            CENTRO  MASCULINO   \n",
      "4   FEMININO       PARDA       ITAREMA        LAGOA SECA   FEMININO   \n",
      "\n",
      "  dataNascimento  ... comorbidadeHepaticaSivep comorbidadeAsmaSivep  \\\n",
      "0     08-10-1995  ...                     None                 None   \n",
      "1     22-09-1964  ...                     None                 None   \n",
      "2     03-04-1986  ...                     None                 None   \n",
      "3     10-04-1971  ...                     None                 None   \n",
      "4     15-08-1976  ...                     None                 None   \n",
      "\n",
      "  comorbidadeDiabetesSivep comorbidadeNeurologiaSivep  \\\n",
      "0                     None                       None   \n",
      "1                     None                       None   \n",
      "2                     None                       None   \n",
      "3                     None                       None   \n",
      "4                     None                       None   \n",
      "\n",
      "  comorbidadePneumopatiaSivep comorbidadeImunodeficienciaSivep  \\\n",
      "0                        None                             None   \n",
      "1                        None                             None   \n",
      "2                        None                             None   \n",
      "3                        None                             None   \n",
      "4                        None                             None   \n",
      "\n",
      "  comorbidadeRenalSivep comorbidadeObesidadeSivep comorbidadeHiv  \\\n",
      "0                  None                      None           None   \n",
      "1                  None                      None           None   \n",
      "2                  None                      None           None   \n",
      "3                  None                      None           None   \n",
      "4                  None                      None           None   \n",
      "\n",
      "  comorbidadeNeoplasias  \n",
      "0                  None  \n",
      "1                  None  \n",
      "2                  None  \n",
      "3                  None  \n",
      "4                  None  \n",
      "\n",
      "[5 rows x 26 columns]\n"
     ]
    }
   ],
   "source": [
    "print(\"Resultaddo do cruzamento entre os datasets :\")\n",
    "\n",
    "result = duckdb.query(query).to_df()\n",
    "print(result.head())"
   ]
  },
  {
   "cell_type": "code",
   "execution_count": 170,
   "id": "ba5ec68c",
   "metadata": {},
   "outputs": [
    {
     "name": "stdout",
     "output_type": "stream",
     "text": [
      "Ao total de registros: 3766\n"
     ]
    }
   ],
   "source": [
    "print(\"Ao total de registros:\", result.shape[0])"
   ]
  },
  {
   "cell_type": "code",
   "execution_count": 171,
   "id": "0983963e",
   "metadata": {},
   "outputs": [
    {
     "name": "stdout",
     "output_type": "stream",
     "text": [
      "Salvando dados no arquivo resultado.csv\n"
     ]
    }
   ],
   "source": [
    "print('Salvando dados no arquivo resultado.csv')\n",
    "result.to_csv('resultado.csv', index=False)"
   ]
  }
 ],
 "metadata": {
  "kernelspec": {
   "display_name": "venv",
   "language": "python",
   "name": "python3"
  },
  "language_info": {
   "codemirror_mode": {
    "name": "ipython",
    "version": 3
   },
   "file_extension": ".py",
   "mimetype": "text/x-python",
   "name": "python",
   "nbconvert_exporter": "python",
   "pygments_lexer": "ipython3",
   "version": "3.12.10"
  }
 },
 "nbformat": 4,
 "nbformat_minor": 5
}
